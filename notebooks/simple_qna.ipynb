{
 "cells": [
  {
   "cell_type": "markdown",
   "metadata": {},
   "source": [
    "## Simple Question and Ansewer RAG using langchain"
   ]
  },
  {
   "cell_type": "markdown",
   "metadata": {},
   "source": [
    "### Loading environment variables"
   ]
  },
  {
   "cell_type": "code",
   "execution_count": 1,
   "metadata": {},
   "outputs": [],
   "source": [
    "# Load environment variables from .env file\n",
    "import os\n",
    "from dotenv import load_dotenv\n",
    "\n",
    "load_dotenv()\n",
    "\n",
    "# Get the OpenAI API key from the environment\n",
    "openai_api_key = os.getenv(\"OPENAI_API_KEY\")\n"
   ]
  },
  {
   "cell_type": "markdown",
   "metadata": {},
   "source": [
    "### Reading different contract files if exist in the data directory"
   ]
  },
  {
   "cell_type": "code",
   "execution_count": 2,
   "metadata": {},
   "outputs": [
    {
     "name": "stdout",
     "output_type": "stream",
     "text": [
      "Contract 1:\n",
      "ADVISORY SERVICES AGREEMENT\n",
      "\n",
      "This Advisory Services Agreement is entered into as of June 15th, 2023 (the “Effective Date”), by and between Cloud Investments Ltd., ID 51-426526-3, an Israeli company (the \"Company\"), and Mr. Jack Robinson, Passport Number 780055578, residing at 1 Rabin st, Tel Aviv, Israel, Email: jackrobinson@gmail.com (\"Advisor\").\n",
      "\n",
      "Whereas,\tAdvisor has expertise and/or knowledge and/or relationships, which are relevant to the Company’s business and the Company has asked Advisor \n",
      "\n"
     ]
    }
   ],
   "source": [
    "# Directory containing contract files\n",
    "CONTRACTS_DIR = \"../data/contracts\"\n",
    "\n",
    "# Function to read text from .docx files\n",
    "from docx import Document as DocxDocument\n",
    "\n",
    "def read_docx(file_path):\n",
    "    doc = DocxDocument(file_path)\n",
    "    return \"\\n\".join([para.text for para in doc.paragraphs])\n",
    "\n",
    "# Load contract data\n",
    "contracts = []\n",
    "for filename in os.listdir(CONTRACTS_DIR):\n",
    "    if filename.endswith(\".docx\"):\n",
    "        file_path = os.path.join(CONTRACTS_DIR, filename)\n",
    "        contracts.append(read_docx(file_path))\n",
    "\n",
    "# Display loaded contracts\n",
    "for i, contract in enumerate(contracts):\n",
    "    print(f\"Contract {i + 1}:\\n{contract[:500]}\\n\")\n"
   ]
  },
  {
   "cell_type": "markdown",
   "metadata": {},
   "source": [
    "### Chunking contracts using different strategies"
   ]
  },
  {
   "cell_type": "markdown",
   "metadata": {},
   "source": [
    "#### Recursive Chunking"
   ]
  },
  {
   "cell_type": "code",
   "execution_count": 4,
   "metadata": {},
   "outputs": [
    {
     "name": "stdout",
     "output_type": "stream",
     "text": [
      "Chunk 1:\n",
      "ADVISORY SERVICES AGREEMENT\n",
      "\n",
      "This Advisory Services Agreement is entered into as of June 15th, 2023 (the “Effective Date”), by and between Cloud Investments Ltd., ID 51-426526-3, an Israeli company (the \"Company\"), and Mr. Jack Robinson, Passport Number 780055578, residing at 1 Rabin st, Tel Aviv, Israel, Email: jackrobinson@gmail.com (\"Advisor\").\n",
      "\n",
      "Chunk 2:\n",
      "Whereas,\tAdvisor has expertise and/or knowledge and/or relationships, which are relevant to the Company’s business and the Company has asked Advisor to provide it with certain Advisory services, as described in this Agreement; and\n",
      "Whereas, \tAdvisor has agreed to provide the Company with such services, subject to the terms set forth in this Agreement.\n",
      "\n",
      "NOW THEREFORE THE PARTIES AGREE AS FOLLOWS:\n",
      "\n",
      "Chunk 3:\n",
      "Services:  \n",
      "Advisor shall provide to the Company, as an independent contractor, software development services, and / or any other services as agreed by the parties from time to time (the “Services”). Advisor shall not appoint any sub-agents or delegates in connection with performance of the Services, nor assign any of his obligations or rights hereunder without obtaining the prior written consent of the Company.\n",
      "\n",
      "Chunk 4:\n",
      "Without derogating from the foregoing, the Advisor shall not be required to provide the Services for a period of eighteen (18) days in each 12-month period.\n",
      "\n",
      "Chunk 5:\n",
      "In performing the Services, Advisor shall devote his time, know-how, expertise, talent, experience and best efforts and attention to the provision of the Services, as shall be reasonably required by the Company. Advisor shall render the Services in a diligent manner and at a high professional standard for the benefit of the Company and shall perform and discharge well and faithfully, with devotion, honesty and fidelity, his obligations hereunder.\n",
      "\n"
     ]
    }
   ],
   "source": [
    "# Split contracts into smaller chunks\n",
    "from langchain.text_splitter import RecursiveCharacterTextSplitter\n",
    "from langchain_core.documents import Document\n",
    "\n",
    "# Create an instance of the RecursiveCharacterTextSplitter with chunk size of 500 characters and overlap of 20 characters\n",
    "splitter = RecursiveCharacterTextSplitter(chunk_size=500, chunk_overlap=20)\n",
    "\n",
    "# Split contracts into smaller chunks using the splitter\n",
    "# Iterate through each contract in the contracts list and split it into chunks using the splitter's split_text() method\n",
    "# Create a Document object for each chunk and store them in the documents list\n",
    "documents = [Document(page_content=chunk) for contract in contracts for chunk in splitter.split_text(contract)]\n",
    "\n",
    "# Display the first few chunks\n",
    "# Iterate through the first 5 documents in the documents list\n",
    "# Print the content of each document, limited to the first 500 characters\n",
    "for i, doc in enumerate(documents[:5]):\n",
    "    print(f\"Chunk {i + 1}:\\n{doc.page_content[:500]}\\n\")"
   ]
  },
  {
   "cell_type": "markdown",
   "metadata": {},
   "source": [
    "### Creating embeddings and populate to chroma vector store"
   ]
  },
  {
   "cell_type": "code",
   "execution_count": 5,
   "metadata": {},
   "outputs": [],
   "source": [
    "# Create embeddings\n",
    "from langchain_openai import OpenAIEmbeddings\n",
    "from langchain_community.vectorstores import Chroma\n",
    "\n",
    "# Create an instance of OpenAIEmbeddings using the provided OpenAI API key\n",
    "embeddings = OpenAIEmbeddings(openai_api_key=openai_api_key)\n",
    "\n",
    "# Initialize and populate Chroma index\n",
    "# Create an instance of Chroma vector store called docstore\n",
    "# Populate the Chroma index with the embeddings of the documents\n",
    "docstore = Chroma.from_documents(documents, embeddings)"
   ]
  },
  {
   "cell_type": "markdown",
   "metadata": {},
   "source": [
    "### Tessting with variable query input"
   ]
  },
  {
   "cell_type": "code",
   "execution_count": 18,
   "metadata": {},
   "outputs": [
    {
     "name": "stdout",
     "output_type": "stream",
     "text": [
      "Result 1:\n",
      "except for Intellectual Property exclusively licensed to the Company pursuant to an Inbound IP Contract, the Company owns all worldwide rights, titles, and interests in and to each item of Company Intellectual Property, free and clear of any Encumbrance other than Permitted Encumbrances and licenses granted in the Outbound IP Contracts identified on Schedule 3.11(f) and the Company is the owner of record of all Company Registrations; and\n",
      "\n",
      "Result 2:\n",
      "except for Intellectual Property exclusively licensed to the Company pursuant to an Inbound IP Contract, the Company owns all worldwide rights, titles, and interests in and to each item of Company Intellectual Property, free and clear of any Encumbrance other than Permitted Encumbrances and licenses granted in the Outbound IP Contracts identified on Schedule 3.11(f) and the Company is the owner of record of all Company Registrations; and\n",
      "\n",
      "Result 3:\n",
      "IP: Any Work Product, upon creation, shall be fully and exclusively owned by the Company. The Advisor, immediately upon Company’s request, shall sign any document and/or perform any action needed to formalize such ownership. The Advisor shall not obtain any rights in the Work Product, including moral rights and/or rights for royalties or other consideration under any applicable law (including Section 134 of the Israeli Patent Law – 1967 if applicable), and shall not be entitled to any\n",
      "\n",
      "Result 4:\n",
      "IP: Any Work Product, upon creation, shall be fully and exclusively owned by the Company. The Advisor, immediately upon Company’s request, shall sign any document and/or perform any action needed to formalize such ownership. The Advisor shall not obtain any rights in the Work Product, including moral rights and/or rights for royalties or other consideration under any applicable law (including Section 134 of the Israeli Patent Law – 1967 if applicable), and shall not be entitled to any\n",
      "\n",
      "Result 5:\n",
      "IP: Any Work Product, upon creation, shall be fully and exclusively owned by the Company. The Advisor, immediately upon Company’s request, shall sign any document and/or perform any action needed to formalize such ownership. The Advisor shall not obtain any rights in the Work Product, including moral rights and/or rights for royalties or other consideration under any applicable law (including Section 134 of the Israeli Patent Law – 1967 if applicable), and shall not be entitled to any\n",
      "\n"
     ]
    }
   ],
   "source": [
    "# query to find similar documents\n",
    "query = \"Who owns the IP? \"\n",
    "\n",
    "# Perform similarity search using the raw query string\n",
    "results = docstore.similarity_search(query, k=5)  # Retrieve top 5 similar documents\n",
    "\n",
    "# Display the search results\n",
    "for i, result in enumerate(results):\n",
    "    print(f\"Result {i + 1}:\\n{result.page_content[:500]}\\n\")\n"
   ]
  }
 ],
 "metadata": {
  "kernelspec": {
   "display_name": ".venv",
   "language": "python",
   "name": "python3"
  },
  "language_info": {
   "codemirror_mode": {
    "name": "ipython",
    "version": 3
   },
   "file_extension": ".py",
   "mimetype": "text/x-python",
   "name": "python",
   "nbconvert_exporter": "python",
   "pygments_lexer": "ipython3",
   "version": "3.12.2"
  }
 },
 "nbformat": 4,
 "nbformat_minor": 2
}
