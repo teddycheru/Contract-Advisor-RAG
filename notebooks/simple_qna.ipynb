{
 "cells": [
  {
   "cell_type": "markdown",
   "metadata": {},
   "source": [
    "## Simple Question and Ansewer RAG using langchain"
   ]
  },
  {
   "cell_type": "markdown",
   "metadata": {},
   "source": [
    "### Loading environment variables"
   ]
  },
  {
   "cell_type": "code",
   "execution_count": 1,
   "metadata": {},
   "outputs": [],
   "source": [
    "# Load environment variables from .env file\n",
    "import os\n",
    "from dotenv import load_dotenv\n",
    "\n",
    "load_dotenv()\n",
    "\n",
    "# Get the OpenAI API key from the environment\n",
    "openai_api_key = os.getenv(\"OPENAI_API_KEY\")\n"
   ]
  },
  {
   "cell_type": "markdown",
   "metadata": {},
   "source": [
    "### Reading different contract files that exist in the data directory"
   ]
  },
  {
   "cell_type": "code",
   "execution_count": 2,
   "metadata": {},
   "outputs": [
    {
     "name": "stdout",
     "output_type": "stream",
     "text": [
      "Contract 1:\n",
      "ADVISORY SERVICES AGREEMENT\n",
      "\n",
      "This Advisory Services Agreement is entered into as of June 15th, 2023 (the “Effective Date”), by and between Cloud Investments Ltd., ID 51-426526-3, an Israeli company (the \"Company\"), and Mr. Jack Robinson, Passport Number 780055578, residing at 1 Rabin st, Tel Aviv, Israel, Email: jackrobinson@gmail.com (\"Advisor\").\n",
      "\n",
      "Whereas,\tAdvisor has expertise and/or knowledge and/or relationships, which are relevant to the Company’s business and the Company has asked Advisor \n",
      "\n"
     ]
    }
   ],
   "source": [
    "# Function to read text from .docx files\n",
    "from docx import Document as DocxDocument\n",
    "\n",
    "# Directory containing contract files\n",
    "CONTRACTS_DIR = \"../data/contracts\"\n",
    "\n",
    "def read_docx(file_path):\n",
    "    doc = DocxDocument(file_path)\n",
    "    return \"\\n\".join([para.text for para in doc.paragraphs])\n",
    "\n",
    "# Load contract data\n",
    "contracts = []\n",
    "for filename in os.listdir(CONTRACTS_DIR):\n",
    "    if filename.endswith(\".docx\"):\n",
    "        file_path = os.path.join(CONTRACTS_DIR, filename)\n",
    "        contracts.append(read_docx(file_path))\n",
    "\n",
    "# Display loaded contracts\n",
    "for i, contract in enumerate(contracts):\n",
    "    print(f\"Contract {i + 1}:\\n{contract[:500]}\\n\")\n"
   ]
  },
  {
   "cell_type": "markdown",
   "metadata": {},
   "source": [
    "### Chunking contracts using different strategies"
   ]
  },
  {
   "cell_type": "markdown",
   "metadata": {},
   "source": [
    "#### Recursive Chunking"
   ]
  },
  {
   "cell_type": "code",
   "execution_count": 13,
   "metadata": {},
   "outputs": [
    {
     "name": "stdout",
     "output_type": "stream",
     "text": [
      "Chunk 1:\n",
      "ADVISORY SERVICES AGREEMENT\n",
      "\n",
      "This Advisory Services Agreement is entered into as of June 15th, 2023 (the “Effective Date”), by and between Cloud Investments Ltd., ID 51-426526-3, an Israeli company (the \"Company\"), and Mr. Jack Robinson, Passport Number 780055578, residing at 1 Rabin st, Tel Aviv, Israel, Email: jackrobinson@gmail.com (\"Advisor\").\n",
      "\n",
      "Chunk 2:\n",
      "Whereas,\tAdvisor has expertise and/or knowledge and/or relationships, which are relevant to the Company’s business and the Company has asked Advisor to provide it with certain Advisory services, as described in this Agreement; and\n",
      "Whereas, \tAdvisor has agreed to provide the Company with such services, subject to the terms set forth in this Agreement.\n",
      "\n",
      "NOW THEREFORE THE PARTIES AGREE AS FOLLOWS:\n",
      "\n",
      "Chunk 3:\n",
      "Services:  \n",
      "Advisor shall provide to the Company, as an independent contractor, software development services, and / or any other services as agreed by the parties from time to time (the “Services”). Advisor shall not appoint any sub-agents or delegates in connection with performance of the Services, nor assign any of his obligations or rights hereunder without obtaining the prior written consent of the Company.\n",
      "\n",
      "Chunk 4:\n",
      "Without derogating from the foregoing, the Advisor shall not be required to provide the Services for a period of eighteen (18) days in each 12-month period.\n",
      "\n",
      "Chunk 5:\n",
      "In performing the Services, Advisor shall devote his time, know-how, expertise, talent, experience and best efforts and attention to the provision of the Services, as shall be reasonably required by the Company. Advisor shall render the Services in a diligent manner and at a high professional standard for the benefit of the Company and shall perform and discharge well and faithfully, with devotion, honesty and fidelity, his obligations hereunder.\n",
      "\n"
     ]
    }
   ],
   "source": [
    "# Split contracts into smaller chunks\n",
    "from langchain.text_splitter import RecursiveCharacterTextSplitter\n",
    "from langchain_core.documents import Document\n",
    "\n",
    "# Create an instance of the RecursiveCharacterTextSplitter with chunk size of 500 characters and overlap of 20 characters\n",
    "splitter = RecursiveCharacterTextSplitter(chunk_size=500, chunk_overlap=20)\n",
    "\n",
    "# Split contracts into smaller chunks using the splitter\n",
    "# Iterate through each contract in the contracts list and split it into chunks using the splitter's split_text() method\n",
    "# Create a Document object for each chunk and store them in the documents list\n",
    "documents = [Document(page_content=chunk) for contract in contracts for chunk in splitter.split_text(contract)]\n",
    "\n",
    "# Display the first few chunks\n",
    "# Iterate through the first 5 documents in the documents list\n",
    "# Print the content of each document, limited to the first 500 characters\n",
    "for i, doc in enumerate(documents[:5]):\n",
    "    print(f\"Chunk {i + 1}:\\n{doc.page_content[:500]}\\n\")"
   ]
  },
  {
   "cell_type": "markdown",
   "metadata": {},
   "source": [
    "### Creating embeddings and populate to chroma vector store"
   ]
  },
  {
   "cell_type": "code",
   "execution_count": 14,
   "metadata": {},
   "outputs": [],
   "source": [
    "# Create embeddings\n",
    "from langchain_openai import OpenAIEmbeddings\n",
    "from langchain_community.vectorstores import Chroma\n",
    "\n",
    "# Create an instance of OpenAIEmbeddings using the provided OpenAI API key\n",
    "embeddings = OpenAIEmbeddings(openai_api_key=openai_api_key)\n",
    "\n",
    "# Initialize and populate Chroma index\n",
    "# Create an instance of Chroma vector store called docstore\n",
    "# Populate the Chroma index with the embeddings of the documents\n",
    "docstore = Chroma.from_documents(documents, embeddings)"
   ]
  },
  {
   "cell_type": "markdown",
   "metadata": {},
   "source": [
    "### Load and Process Evaluation Data"
   ]
  },
  {
   "cell_type": "code",
   "execution_count": 17,
   "metadata": {},
   "outputs": [
    {
     "name": "stdout",
     "output_type": "stream",
     "text": [
      "QA Pair 1:\n",
      "Question: Who are the parties to the Agreement and what are their defined names?\n",
      "Answer: Cloud Investments Ltd. (“Company”) and Jack Robinson (“Advisor”)\n",
      "\n",
      "QA Pair 2:\n",
      "Question: What is the termination notice?\n",
      "Answer: According to section 4:14 days for convenience by both parties. The Company may terminate without notice if the Advisor refuses or cannot perform the Services or is in breach of any provision of this Agreement.\n",
      "\n",
      "QA Pair 3:\n",
      "Question: What are the payments to the Advisor under the Agreement?\n",
      "Answer: According to section 6: 1. Fees of $9 per hour up to a monthly limit of $1,500, 2. Workspace expense of $100 per month, 3. Other reasonable and actual expenses if approved by the company in writing and in advance.\n",
      "\n",
      "QA Pair 4:\n",
      "Question: Can the Agreement or any of its obligations be assigned?\n",
      "Answer: 1. Under section 1.1 the Advisor can’t assign any of his obligations without the prior written consent of the Company, 2. Under section 9  the Advisor may not assign the Agreement and the Company may assign it, 3 Under section 9 of the Undertaking the Company may assign the Undertaking.\n",
      "\n",
      "QA Pair 5:\n",
      "Question: Who owns the IP?\n",
      "Answer: According to section 4 of the Undertaking (Appendix A), Any Work Product, upon creation, shall be fully and exclusively owned by the Company.\n",
      "\n",
      "QA Pair 6:\n",
      "Question: Is there a non-compete obligation to the Advisor?\n",
      "Answer: Yes. During the term of engagement with the Company and for a period of 12 months thereafter.\n",
      "\n",
      "QA Pair 7:\n",
      "Question: Can the Advisor charge for meal time?\n",
      "Answer: No. See Section 6.1, Billable Hour doesn’t include meals or travel time.\n",
      "\n",
      "QA Pair 8:\n",
      "Question: In which street does the Advisor live?\n",
      "Answer: 1 Rabin st, Tel Aviv, Israel\n",
      "\n",
      "QA Pair 9:\n",
      "Question: Is the Advisor entitled to social benefits?\n",
      "Answer: No. According to section 8 of the Agreement, the Advisor is an independent consultant and shall not be entitled to any overtime pay, insurance, paid vacation, severance payments or similar fringe or employment benefits from the Company.\n",
      "\n",
      "QA Pair 10:\n",
      "Question: What happens if the Advisor claims compensation based on employment relationship with the Company?\n",
      "Answer: If the Advisor is determined to be an employee of the Company by a governmental authority, payments to the Advisor will be retroactively reduced so that 60% constitutes salary payments and 40% constitutes payment for statutory rights and benefits. The Company may offset any amounts due to the Advisor from any amounts payable under the Agreement. The Advisor must indemnify the Company for any losses or expenses incurred if an employer/employee relationship is determined to exist.\n",
      "\n"
     ]
    }
   ],
   "source": [
    "# Load evaluation data from a .docx file\n",
    "EVAL_FILE = \"../data/qna/Robinson Q&A.docx\"\n",
    "\n",
    "def load_evaluation_data(file_path):\n",
    "    data = read_docx(file_path)\n",
    "    qa_pairs = []\n",
    "    lines = data.split('\\n')\n",
    "    current_question = None\n",
    "    for line in lines:\n",
    "        line = line.strip()\n",
    "        if line.startswith('Q') and ':' in line:\n",
    "            if current_question:\n",
    "                qa_pairs.append(current_question)\n",
    "            current_question = {\"question\": line.split(':', 1)[1].strip()}\n",
    "        elif line.startswith('A') and ':' in line and current_question:\n",
    "            current_question[\"answer\"] = line.split(':', 1)[1].strip()\n",
    "            qa_pairs.append(current_question)\n",
    "            current_question = None\n",
    "    return qa_pairs\n",
    "\n",
    "# Load evaluation data\n",
    "evaluation_data = load_evaluation_data(EVAL_FILE)\n",
    "\n",
    "# Display the extracted QA pairs\n",
    "for i, qa in enumerate(evaluation_data):\n",
    "    print(f\"QA Pair {i + 1}:\\nQuestion: {qa['question']}\\nAnswer: {qa['answer']}\\n\")"
   ]
  },
  {
   "cell_type": "markdown",
   "metadata": {},
   "source": [
    " ### Load Necessary Models for Evaluation"
   ]
  },
  {
   "cell_type": "code",
   "execution_count": 18,
   "metadata": {},
   "outputs": [
    {
     "name": "stderr",
     "output_type": "stream",
     "text": [
      "Some weights of the model checkpoint at roberta-large-mnli were not used when initializing RobertaForSequenceClassification: ['roberta.pooler.dense.bias', 'roberta.pooler.dense.weight']\n",
      "- This IS expected if you are initializing RobertaForSequenceClassification from the checkpoint of a model trained on another task or with another architecture (e.g. initializing a BertForSequenceClassification model from a BertForPreTraining model).\n",
      "- This IS NOT expected if you are initializing RobertaForSequenceClassification from the checkpoint of a model that you expect to be exactly identical (initializing a BertForSequenceClassification model from a BertForSequenceClassification model).\n"
     ]
    }
   ],
   "source": [
    "import spacy\n",
    "from transformers import pipeline\n",
    "\n",
    "# Ensure the spaCy model is installed\n",
    "def ensure_spacy_model(model_name=\"en_core_web_sm\"):\n",
    "    try:\n",
    "        spacy.load(model_name)\n",
    "    except OSError:\n",
    "        from subprocess import run\n",
    "        run(f\"python -m spacy download {model_name}\", shell=True)\n",
    "\n",
    "ensure_spacy_model()\n",
    "\n",
    "# Load spaCy model for entity recognition\n",
    "nlp = spacy.load(\"en_core_web_sm\")\n",
    "\n",
    "# Load NLI model\n",
    "nli_model = pipeline(\"text-classification\", model=\"roberta-large-mnli\")"
   ]
  },
  {
   "cell_type": "markdown",
   "metadata": {},
   "source": [
    "### Define Evaluation Functions"
   ]
  },
  {
   "cell_type": "code",
   "execution_count": 19,
   "metadata": {},
   "outputs": [],
   "source": [
    "def extract_entities(text):\n",
    "    doc = nlp(text)\n",
    "    return [ent.text for ent in doc.ents]\n",
    "\n",
    "def calculate_hallucination_score(generated_text, reference_text):\n",
    "    # Extract entities\n",
    "    gen_entities = extract_entities(generated_text)\n",
    "    ref_entities = extract_entities(reference_text)\n",
    "    \n",
    "    # Calculate entity overlap score\n",
    "    common_entities = set(gen_entities) & set(ref_entities)\n",
    "    entity_score = 1 - (len(common_entities) / len(set(gen_entities)))\n",
    "    \n",
    "    # Calculate NLI entailment score\n",
    "    nli_result = nli_model(f\"premise: {reference_text} hypothesis: {generated_text}\")\n",
    "    entailment_score = nli_result[0]['score'] if nli_result[0]['label'] == 'ENTAILMENT' else 0\n",
    "    \n",
    "    # Combine scores\n",
    "    combined_score = (entity_score + (1 - entailment_score)) / 2\n",
    "    return combined_score"
   ]
  },
  {
   "cell_type": "markdown",
   "metadata": {},
   "source": [
    "### Running Query and Evaluation"
   ]
  },
  {
   "cell_type": "code",
   "execution_count": 20,
   "metadata": {},
   "outputs": [
    {
     "name": "stdout",
     "output_type": "stream",
     "text": [
      "Result 1:\n",
      "IP: Any Work Product, upon creation, shall be fully and exclusively owned by the Company. The Advisor, immediately upon Company’s request, shall sign any document and/or perform any action needed to formalize such ownership. The Advisor shall not obtain any rights in the Work Product, including moral rights and/or rights for royalties or other consideration under any applicable law (including Section 134 of the Israeli Patent Law – 1967 if applicable), and shall not be entitled to any\n",
      "\n",
      "Hallucination Score: 0.9\n",
      "\n",
      "Result 2:\n",
      "a Confidentiality, Non-Competition and IP Ownership Undertaking in the form attached hereto as Exhibit A.\n",
      "\n",
      "Hallucination Score: 1.0\n",
      "\n",
      "Result 3:\n",
      "Confidentiality, Non-Competition and IP Ownership Undertaking: In connection with the performance of Advisor’s obligations under this Agreement, the Advisor shall execute a Confidentiality, Non-Competition and IP Ownership Undertaking in the form attached hereto as Exhibit A.\n",
      "\n",
      "Hallucination Score: 0.7680196017026901\n",
      "\n",
      "Result 4:\n",
      "Confidentiality, None Compete and IP Ownership Undertaking\n",
      "Appendix A to Advisory Service Agreement as of June 15th, 2023\n",
      "\n",
      "Hallucination Score: 1.0\n",
      "\n",
      "Result 5:\n",
      "Confidentiality, None Compete and IP Ownership Undertaking\n",
      "Appendix A to Advisory Service Agreement as of June 15th, 2023\n",
      "\n",
      "Hallucination Score: 1.0\n",
      "\n"
     ]
    }
   ],
   "source": [
    "def run_query(query, evaluation_data):\n",
    "    results = docstore.similarity_search(query, k=5)\n",
    "\n",
    "    for i, result in enumerate(results):\n",
    "        generated_text = result.page_content\n",
    "        reference_text = \"\"\n",
    "        for qa_pair in evaluation_data:\n",
    "            if query in qa_pair[\"question\"]:\n",
    "                reference_text = qa_pair[\"answer\"]\n",
    "                break\n",
    "        \n",
    "        hallucination_score = calculate_hallucination_score(generated_text, reference_text)\n",
    "        \n",
    "        print(f\"Result {i + 1}:\\n{generated_text[:500]}\\n\")\n",
    "        print(f\"Hallucination Score: {hallucination_score}\\n\")\n",
    "        \n",
    "\n",
    "# Example query\n",
    "query = \"Who owns the IP?\"\n",
    "run_query(query, evaluation_data)"
   ]
  }
 ],
 "metadata": {
  "kernelspec": {
   "display_name": ".venv",
   "language": "python",
   "name": "python3"
  },
  "language_info": {
   "codemirror_mode": {
    "name": "ipython",
    "version": 3
   },
   "file_extension": ".py",
   "mimetype": "text/x-python",
   "name": "python",
   "nbconvert_exporter": "python",
   "pygments_lexer": "ipython3",
   "version": "3.12.2"
  }
 },
 "nbformat": 4,
 "nbformat_minor": 2
}
